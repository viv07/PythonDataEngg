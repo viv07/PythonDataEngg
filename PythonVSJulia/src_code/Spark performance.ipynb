{
 "cells": [
  {
   "cell_type": "code",
   "execution_count": 1,
   "metadata": {},
   "outputs": [
    {
     "name": "stdout",
     "output_type": "stream",
     "text": [
      "modules imported\n",
      "app created\n",
      "+-------+-------+---------+----------+--------+-------------+-----------+\n",
      "|    _c0|    _c1|      _c2|       _c3|     _c4|          _c5|        _c6|\n",
      "+-------+-------+---------+----------+--------+-------------+-----------+\n",
      "|PROD_ID|CUST_ID|  TIME_ID|CHANNEL_ID|PROMO_ID|QUANTITY_SOLD|AMOUNT_SOLD|\n",
      "|     13|    987|10-JAN-98|         3|     999|            1|    1232.16|\n",
      "|     13|   1660|10-JAN-98|         3|     999|            1|    1232.16|\n",
      "|     13|   1762|10-JAN-98|         3|     999|            1|    1232.16|\n",
      "|     13|   1843|10-JAN-98|         3|     999|            1|    1232.16|\n",
      "|     13|   1948|10-JAN-98|         3|     999|            1|    1232.16|\n",
      "|     13|   2273|10-JAN-98|         3|     999|            1|    1232.16|\n",
      "|     13|   2380|10-JAN-98|         3|     999|            1|    1232.16|\n",
      "|     13|   2683|10-JAN-98|         3|     999|            1|    1232.16|\n",
      "|     13|   2865|10-JAN-98|         3|     999|            1|    1232.16|\n",
      "+-------+-------+---------+----------+--------+-------------+-----------+\n",
      "only showing top 10 rows\n",
      "\n",
      "344340.066 milliseconds\n"
     ]
    }
   ],
   "source": [
    "from datetime import datetime\n",
    "t1 = datetime.now()\n",
    "import findspark\n",
    "findspark.init('D:\\spark-2.3.3-bin-hadoop2.7')\n",
    "import pyspark\n",
    "from pyspark.sql import SparkSession\n",
    "print('modules imported')\n",
    "spark= SparkSession.builder.appName('BigData').getOrCreate()\n",
    "print('app created')\n",
    "sales_df= spark.read.csv(r\"D:\\python_coding\\Sales Data\\sales_data.csv\",\n",
    "                         inferSchema=True,)\n",
    "sales_df.show(10)\n",
    "\n",
    "#write dataset to target csv file\n",
    "sales_df.write.format('csv') \\\n",
    "        .option('header','true') \\\n",
    "        .save('D:\\python_coding\\Sales Data\\spark_emp.csv',\n",
    "              mode='overwrite')\n",
    "t2 = datetime.now()\n",
    "print(str((t2 - t1).total_seconds() * 1000) + ' milliseconds')"
   ]
  },
  {
   "cell_type": "code",
   "execution_count": 2,
   "metadata": {},
   "outputs": [],
   "source": [
    "sales_df= spark.read.csv(r\"D:\\python_coding\\Sales Data\\sales_data.csv\",\n",
    "                         inferSchema=True,header=True)"
   ]
  },
  {
   "cell_type": "code",
   "execution_count": 3,
   "metadata": {},
   "outputs": [
    {
     "name": "stdout",
     "output_type": "stream",
     "text": [
      "+-------+-------+---------+----------+--------+-------------+-----------+\n",
      "|PROD_ID|CUST_ID|  TIME_ID|CHANNEL_ID|PROMO_ID|QUANTITY_SOLD|AMOUNT_SOLD|\n",
      "+-------+-------+---------+----------+--------+-------------+-----------+\n",
      "|     13|    987|10-JAN-98|         3|     999|            1|    1232.16|\n",
      "|     13|   1660|10-JAN-98|         3|     999|            1|    1232.16|\n",
      "|     13|   1762|10-JAN-98|         3|     999|            1|    1232.16|\n",
      "|     13|   1843|10-JAN-98|         3|     999|            1|    1232.16|\n",
      "|     13|   1948|10-JAN-98|         3|     999|            1|    1232.16|\n",
      "|     13|   2273|10-JAN-98|         3|     999|            1|    1232.16|\n",
      "|     13|   2380|10-JAN-98|         3|     999|            1|    1232.16|\n",
      "|     13|   2683|10-JAN-98|         3|     999|            1|    1232.16|\n",
      "|     13|   2865|10-JAN-98|         3|     999|            1|    1232.16|\n",
      "|     13|   4663|10-JAN-98|         3|     999|            1|    1232.16|\n",
      "+-------+-------+---------+----------+--------+-------------+-----------+\n",
      "only showing top 10 rows\n",
      "\n"
     ]
    }
   ],
   "source": [
    "sales_df.show(10)\n"
   ]
  }
 ],
 "metadata": {
  "kernelspec": {
   "display_name": "Python 3",
   "language": "python",
   "name": "python3"
  },
  "language_info": {
   "codemirror_mode": {
    "name": "ipython",
    "version": 3
   },
   "file_extension": ".py",
   "mimetype": "text/x-python",
   "name": "python",
   "nbconvert_exporter": "python",
   "pygments_lexer": "ipython3",
   "version": "3.7.3"
  }
 },
 "nbformat": 4,
 "nbformat_minor": 2
}
