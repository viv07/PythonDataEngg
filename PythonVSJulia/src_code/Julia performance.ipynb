{
 "cells": [
  {
   "cell_type": "code",
   "execution_count": null,
   "metadata": {},
   "outputs": [
    {
     "name": "stderr",
     "output_type": "stream",
     "text": [
      "\u001b[32m\u001b[1m    Updating\u001b[22m\u001b[39m registry at `C:\\Users\\lenovo\\.julia\\registries\\General.toml`\n",
      "┌ Error: Some registries failed to update:\n",
      "│     — C:\\Users\\lenovo\\.julia\\registries\\General.toml — failed to download from https://pkg.julialang.org/registry/23338594-aafe-5451-b93e-139f81909106/038345c7ad924f1271293f95756626e7bdc363a8. Exception: InterruptException:\n",
      "└ @ Pkg.Registry C:\\buildbot\\worker\\package_win64\\build\\usr\\share\\julia\\stdlib\\v1.7\\Pkg\\src\\Registry\\Registry.jl:450\n"
     ]
    }
   ],
   "source": [
    "import Pkg\n",
    "Pkg.add(\"CSV\")"
   ]
  },
  {
   "cell_type": "code",
   "execution_count": 1,
   "metadata": {},
   "outputs": [],
   "source": [
    "using CSV\n",
    "using DataFrames\n",
    "using Dates"
   ]
  },
  {
   "cell_type": "code",
   "execution_count": 2,
   "metadata": {},
   "outputs": [
    {
     "data": {
      "text/html": [
       "<div class=\"data-frame\"><p>14 rows × 8 columns</p><table class=\"data-frame\"><thead><tr><th></th><th>EMPNO</th><th>ENAME</th><th>JOB</th><th>MGR</th><th>HIREDATE</th><th>SAL</th><th>COMM</th><th>DEPTNO</th></tr><tr><th></th><th title=\"Int64\">Int64</th><th title=\"String7\">String7</th><th title=\"String15\">String15</th><th title=\"Union{Missing, Int64}\">Int64?</th><th title=\"String15\">String15</th><th title=\"Int64\">Int64</th><th title=\"Union{Missing, Int64}\">Int64?</th><th title=\"Int64\">Int64</th></tr></thead><tbody><tr><th>1</th><td>7369</td><td>SMITH</td><td>CLERK</td><td>7902</td><td>17-Dec-80</td><td>800</td><td><em>missing</em></td><td>20</td></tr><tr><th>2</th><td>7499</td><td>ALLEN</td><td>SALESMAN</td><td>7698</td><td>20-Feb-81</td><td>1600</td><td>300</td><td>30</td></tr><tr><th>3</th><td>7521</td><td>WARD</td><td>SALESMAN</td><td>7698</td><td>22-Feb-81</td><td>1250</td><td>500</td><td>30</td></tr><tr><th>4</th><td>7566</td><td>JONES</td><td>MANAGER</td><td>7839</td><td>2-Apr-81</td><td>2975</td><td><em>missing</em></td><td>20</td></tr><tr><th>5</th><td>7654</td><td>MARTIN</td><td>SALESMAN</td><td>7698</td><td>28-Sep-81</td><td>1250</td><td>1400</td><td>30</td></tr><tr><th>6</th><td>7698</td><td>BLAKE</td><td>MANAGER</td><td>7839</td><td>1-May-81</td><td>2850</td><td><em>missing</em></td><td>30</td></tr><tr><th>7</th><td>7782</td><td>CLARK</td><td>MANAGER</td><td>7839</td><td>9-Jun-81</td><td>2450</td><td><em>missing</em></td><td>10</td></tr><tr><th>8</th><td>7788</td><td>SCOTT</td><td>ANALYST</td><td>7566</td><td>19-Apr-87</td><td>3000</td><td><em>missing</em></td><td>20</td></tr><tr><th>9</th><td>7839</td><td>KING</td><td>PRESIDENT</td><td><em>missing</em></td><td>17-Nov-81</td><td>5000</td><td><em>missing</em></td><td>10</td></tr><tr><th>10</th><td>7844</td><td>TURNER</td><td>SALESMAN</td><td>7698</td><td>8-Sep-81</td><td>1500</td><td>0</td><td>30</td></tr><tr><th>11</th><td>7876</td><td>ADAMS</td><td>CLERK</td><td>7788</td><td>23-May-87</td><td>1100</td><td><em>missing</em></td><td>20</td></tr><tr><th>12</th><td>7900</td><td>JAMES</td><td>CLERK</td><td>7698</td><td>3-Dec-81</td><td>950</td><td><em>missing</em></td><td>30</td></tr><tr><th>13</th><td>7902</td><td>FORD</td><td>ANALYST</td><td>7566</td><td>3-Dec-81</td><td>3000</td><td><em>missing</em></td><td>20</td></tr><tr><th>14</th><td>7934</td><td>MILLER</td><td>CLERK</td><td>7782</td><td>23-Jan-82</td><td>1300</td><td><em>missing</em></td><td>10</td></tr></tbody></table></div>"
      ],
      "text/latex": [
       "\\begin{tabular}{r|cccccccc}\n",
       "\t& EMPNO & ENAME & JOB & MGR & HIREDATE & SAL & COMM & DEPTNO\\\\\n",
       "\t\\hline\n",
       "\t& Int64 & String7 & String15 & Int64? & String15 & Int64 & Int64? & Int64\\\\\n",
       "\t\\hline\n",
       "\t1 & 7369 & SMITH & CLERK & 7902 & 17-Dec-80 & 800 & \\emph{missing} & 20 \\\\\n",
       "\t2 & 7499 & ALLEN & SALESMAN & 7698 & 20-Feb-81 & 1600 & 300 & 30 \\\\\n",
       "\t3 & 7521 & WARD & SALESMAN & 7698 & 22-Feb-81 & 1250 & 500 & 30 \\\\\n",
       "\t4 & 7566 & JONES & MANAGER & 7839 & 2-Apr-81 & 2975 & \\emph{missing} & 20 \\\\\n",
       "\t5 & 7654 & MARTIN & SALESMAN & 7698 & 28-Sep-81 & 1250 & 1400 & 30 \\\\\n",
       "\t6 & 7698 & BLAKE & MANAGER & 7839 & 1-May-81 & 2850 & \\emph{missing} & 30 \\\\\n",
       "\t7 & 7782 & CLARK & MANAGER & 7839 & 9-Jun-81 & 2450 & \\emph{missing} & 10 \\\\\n",
       "\t8 & 7788 & SCOTT & ANALYST & 7566 & 19-Apr-87 & 3000 & \\emph{missing} & 20 \\\\\n",
       "\t9 & 7839 & KING & PRESIDENT & \\emph{missing} & 17-Nov-81 & 5000 & \\emph{missing} & 10 \\\\\n",
       "\t10 & 7844 & TURNER & SALESMAN & 7698 & 8-Sep-81 & 1500 & 0 & 30 \\\\\n",
       "\t11 & 7876 & ADAMS & CLERK & 7788 & 23-May-87 & 1100 & \\emph{missing} & 20 \\\\\n",
       "\t12 & 7900 & JAMES & CLERK & 7698 & 3-Dec-81 & 950 & \\emph{missing} & 30 \\\\\n",
       "\t13 & 7902 & FORD & ANALYST & 7566 & 3-Dec-81 & 3000 & \\emph{missing} & 20 \\\\\n",
       "\t14 & 7934 & MILLER & CLERK & 7782 & 23-Jan-82 & 1300 & \\emph{missing} & 10 \\\\\n",
       "\\end{tabular}\n"
      ],
      "text/plain": [
       "\u001b[1m14×8 DataFrame\u001b[0m\n",
       "\u001b[1m Row \u001b[0m│\u001b[1m EMPNO \u001b[0m\u001b[1m ENAME   \u001b[0m\u001b[1m JOB       \u001b[0m\u001b[1m MGR     \u001b[0m\u001b[1m HIREDATE  \u001b[0m\u001b[1m SAL   \u001b[0m\u001b[1m COMM    \u001b[0m\u001b[1m DEPTNO \u001b[0m\n",
       "\u001b[1m     \u001b[0m│\u001b[90m Int64 \u001b[0m\u001b[90m String7 \u001b[0m\u001b[90m String15  \u001b[0m\u001b[90m Int64?  \u001b[0m\u001b[90m String15  \u001b[0m\u001b[90m Int64 \u001b[0m\u001b[90m Int64?  \u001b[0m\u001b[90m Int64  \u001b[0m\n",
       "─────┼───────────────────────────────────────────────────────────────────────\n",
       "   1 │  7369  SMITH    CLERK         7902  17-Dec-80    800 \u001b[90m missing \u001b[0m     20\n",
       "   2 │  7499  ALLEN    SALESMAN      7698  20-Feb-81   1600      300      30\n",
       "   3 │  7521  WARD     SALESMAN      7698  22-Feb-81   1250      500      30\n",
       "   4 │  7566  JONES    MANAGER       7839  2-Apr-81    2975 \u001b[90m missing \u001b[0m     20\n",
       "   5 │  7654  MARTIN   SALESMAN      7698  28-Sep-81   1250     1400      30\n",
       "   6 │  7698  BLAKE    MANAGER       7839  1-May-81    2850 \u001b[90m missing \u001b[0m     30\n",
       "   7 │  7782  CLARK    MANAGER       7839  9-Jun-81    2450 \u001b[90m missing \u001b[0m     10\n",
       "   8 │  7788  SCOTT    ANALYST       7566  19-Apr-87   3000 \u001b[90m missing \u001b[0m     20\n",
       "   9 │  7839  KING     PRESIDENT \u001b[90m missing \u001b[0m 17-Nov-81   5000 \u001b[90m missing \u001b[0m     10\n",
       "  10 │  7844  TURNER   SALESMAN      7698  8-Sep-81    1500        0      30\n",
       "  11 │  7876  ADAMS    CLERK         7788  23-May-87   1100 \u001b[90m missing \u001b[0m     20\n",
       "  12 │  7900  JAMES    CLERK         7698  3-Dec-81     950 \u001b[90m missing \u001b[0m     30\n",
       "  13 │  7902  FORD     ANALYST       7566  3-Dec-81    3000 \u001b[90m missing \u001b[0m     20\n",
       "  14 │  7934  MILLER   CLERK         7782  23-Jan-82   1300 \u001b[90m missing \u001b[0m     10"
      ]
     },
     "execution_count": 2,
     "metadata": {},
     "output_type": "execute_result"
    }
   ],
   "source": [
    "#https://stackoverflow.com/questions/65073519/importing-csv-file-in-julia-argumenterror-provide-a-valid-sink-argument-like\n",
    "\n",
    "emp = CSV.read(\"D:\\\\python_coding\\\\pyspark_tutorial\\\\emp.csv\", DataFrame)"
   ]
  },
  {
   "cell_type": "code",
   "execution_count": 8,
   "metadata": {},
   "outputs": [],
   "source": []
  },
  {
   "cell_type": "code",
   "execution_count": null,
   "metadata": {},
   "outputs": [],
   "source": [
    "#reading a 2.75GB file"
   ]
  },
  {
   "cell_type": "code",
   "execution_count": 2,
   "metadata": {},
   "outputs": [
    {
     "name": "stdout",
     "output_type": "stream",
     "text": [
      "453396 milliseconds"
     ]
    }
   ],
   "source": [
    "d1=now()\n",
    "sales=CSV.read(\"D:\\\\python_coding\\\\Sales Data\\\\sales_data.csv\",DataFrame)\n",
    "first(sales,10)\n",
    "CSV.write(\"D:\\\\python_coding\\\\Sales Data\\\\julia_sale.csv.csv\", sales)\n",
    "d2=now()\n",
    "print(d2-d1)"
   ]
  },
  {
   "cell_type": "code",
   "execution_count": 11,
   "metadata": {},
   "outputs": [
    {
     "name": "stdout",
     "output_type": "stream",
     "text": [
      "60.713"
     ]
    }
   ],
   "source": [
    "print(60713/1000)"
   ]
  },
  {
   "cell_type": "code",
   "execution_count": null,
   "metadata": {},
   "outputs": [],
   "source": [
    "#reading a 6.5GB file"
   ]
  },
  {
   "cell_type": "code",
   "execution_count": 3,
   "metadata": {},
   "outputs": [
    {
     "data": {
      "text/html": [
       "<div class=\"data-frame\"><p>10 rows × 7 columns</p><table class=\"data-frame\"><thead><tr><th></th><th>PROD_ID</th><th>CUST_ID</th><th>TIME_ID</th><th>CHANNEL_ID</th><th>PROMO_ID</th><th>QUANTITY_SOLD</th><th>AMOUNT_SOLD</th></tr><tr><th></th><th title=\"Int64\">Int64</th><th title=\"Int64\">Int64</th><th title=\"String15\">String15</th><th title=\"Int64\">Int64</th><th title=\"Int64\">Int64</th><th title=\"Int64\">Int64</th><th title=\"Float64\">Float64</th></tr></thead><tbody><tr><th>1</th><td>13</td><td>987</td><td>10-JAN-98</td><td>3</td><td>999</td><td>1</td><td>1232.16</td></tr><tr><th>2</th><td>13</td><td>1660</td><td>10-JAN-98</td><td>3</td><td>999</td><td>1</td><td>1232.16</td></tr><tr><th>3</th><td>13</td><td>1762</td><td>10-JAN-98</td><td>3</td><td>999</td><td>1</td><td>1232.16</td></tr><tr><th>4</th><td>13</td><td>1843</td><td>10-JAN-98</td><td>3</td><td>999</td><td>1</td><td>1232.16</td></tr><tr><th>5</th><td>13</td><td>1948</td><td>10-JAN-98</td><td>3</td><td>999</td><td>1</td><td>1232.16</td></tr><tr><th>6</th><td>13</td><td>2273</td><td>10-JAN-98</td><td>3</td><td>999</td><td>1</td><td>1232.16</td></tr><tr><th>7</th><td>13</td><td>2380</td><td>10-JAN-98</td><td>3</td><td>999</td><td>1</td><td>1232.16</td></tr><tr><th>8</th><td>13</td><td>2683</td><td>10-JAN-98</td><td>3</td><td>999</td><td>1</td><td>1232.16</td></tr><tr><th>9</th><td>13</td><td>2865</td><td>10-JAN-98</td><td>3</td><td>999</td><td>1</td><td>1232.16</td></tr><tr><th>10</th><td>13</td><td>4663</td><td>10-JAN-98</td><td>3</td><td>999</td><td>1</td><td>1232.16</td></tr></tbody></table></div>"
      ],
      "text/latex": [
       "\\begin{tabular}{r|ccccccc}\n",
       "\t& PROD\\_ID & CUST\\_ID & TIME\\_ID & CHANNEL\\_ID & PROMO\\_ID & QUANTITY\\_SOLD & AMOUNT\\_SOLD\\\\\n",
       "\t\\hline\n",
       "\t& Int64 & Int64 & String15 & Int64 & Int64 & Int64 & Float64\\\\\n",
       "\t\\hline\n",
       "\t1 & 13 & 987 & 10-JAN-98 & 3 & 999 & 1 & 1232.16 \\\\\n",
       "\t2 & 13 & 1660 & 10-JAN-98 & 3 & 999 & 1 & 1232.16 \\\\\n",
       "\t3 & 13 & 1762 & 10-JAN-98 & 3 & 999 & 1 & 1232.16 \\\\\n",
       "\t4 & 13 & 1843 & 10-JAN-98 & 3 & 999 & 1 & 1232.16 \\\\\n",
       "\t5 & 13 & 1948 & 10-JAN-98 & 3 & 999 & 1 & 1232.16 \\\\\n",
       "\t6 & 13 & 2273 & 10-JAN-98 & 3 & 999 & 1 & 1232.16 \\\\\n",
       "\t7 & 13 & 2380 & 10-JAN-98 & 3 & 999 & 1 & 1232.16 \\\\\n",
       "\t8 & 13 & 2683 & 10-JAN-98 & 3 & 999 & 1 & 1232.16 \\\\\n",
       "\t9 & 13 & 2865 & 10-JAN-98 & 3 & 999 & 1 & 1232.16 \\\\\n",
       "\t10 & 13 & 4663 & 10-JAN-98 & 3 & 999 & 1 & 1232.16 \\\\\n",
       "\\end{tabular}\n"
      ],
      "text/plain": [
       "\u001b[1m10×7 DataFrame\u001b[0m\n",
       "\u001b[1m Row \u001b[0m│\u001b[1m PROD_ID \u001b[0m\u001b[1m CUST_ID \u001b[0m\u001b[1m TIME_ID   \u001b[0m\u001b[1m CHANNEL_ID \u001b[0m\u001b[1m PROMO_ID \u001b[0m\u001b[1m QUANTITY_SOLD \u001b[0m\u001b[1m AMOUN\u001b[0m ⋯\n",
       "\u001b[1m     \u001b[0m│\u001b[90m Int64   \u001b[0m\u001b[90m Int64   \u001b[0m\u001b[90m String15  \u001b[0m\u001b[90m Int64      \u001b[0m\u001b[90m Int64    \u001b[0m\u001b[90m Int64         \u001b[0m\u001b[90m Float\u001b[0m ⋯\n",
       "─────┼──────────────────────────────────────────────────────────────────────────\n",
       "   1 │      13      987  10-JAN-98           3       999              1      1 ⋯\n",
       "   2 │      13     1660  10-JAN-98           3       999              1      1\n",
       "   3 │      13     1762  10-JAN-98           3       999              1      1\n",
       "   4 │      13     1843  10-JAN-98           3       999              1      1\n",
       "   5 │      13     1948  10-JAN-98           3       999              1      1 ⋯\n",
       "   6 │      13     2273  10-JAN-98           3       999              1      1\n",
       "   7 │      13     2380  10-JAN-98           3       999              1      1\n",
       "   8 │      13     2683  10-JAN-98           3       999              1      1\n",
       "   9 │      13     2865  10-JAN-98           3       999              1      1 ⋯\n",
       "  10 │      13     4663  10-JAN-98           3       999              1      1\n",
       "\u001b[36m                                                                1 column omitted\u001b[0m"
      ]
     },
     "execution_count": 3,
     "metadata": {},
     "output_type": "execute_result"
    }
   ],
   "source": [
    "sales=CSV.read(\"D:\\\\python_coding\\\\Sales Data\\\\sales_data.csv\",DataFrame)\n",
    "first(sales,10)\n"
   ]
  },
  {
   "cell_type": "code",
   "execution_count": 5,
   "metadata": {},
   "outputs": [
    {
     "name": "stdout",
     "output_type": "stream",
     "text": [
      "160.388"
     ]
    }
   ],
   "source": [
    "print(160388/1000)"
   ]
  }
 ],
 "metadata": {
  "kernelspec": {
   "display_name": "Julia 1.7.1",
   "language": "julia",
   "name": "julia-1.7"
  },
  "language_info": {
   "file_extension": ".jl",
   "mimetype": "application/julia",
   "name": "julia",
   "version": "1.7.1"
  }
 },
 "nbformat": 4,
 "nbformat_minor": 2
}
